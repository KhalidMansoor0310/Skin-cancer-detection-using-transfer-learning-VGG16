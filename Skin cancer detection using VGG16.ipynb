{
 "cells": [
  {
   "cell_type": "code",
   "execution_count": null,
   "id": "b3bcf5ee",
   "metadata": {},
   "outputs": [],
   "source": [
    "from keras.layers import Input, Lambda, Dense, Flatten\n",
    "from keras.models import Model\n",
    "from keras.applications.vgg16 import VGG16\n",
    "from keras.applications.vgg16 import preprocess_input\n",
    "from keras.preprocessing import image\n",
    "from keras.preprocessing.image import ImageDataGenerator\n",
    "from keras.models import Sequential\n",
    "import numpy as np\n",
    "from glob import glob\n",
    "import matplotlib.pyplot as plt\n",
    "\n",
    "import warnings\n",
    "warnings.filterwarnings(\"ignore\", category=FutureWarning)"
   ]
  },
  {
   "cell_type": "code",
   "execution_count": null,
   "id": "17584535",
   "metadata": {},
   "outputs": [],
   "source": [
    "train_datagen = ImageDataGenerator(\n",
    "    preprocessing_function=preprocess_input,\n",
    "    rotation_range=40,\n",
    "    width_shift_range=0.2,\n",
    "    height_shift_range=0.2,\n",
    "    shear_range=0.2,\n",
    "    zoom_range=0.2,\n",
    "    horizontal_flip=True,\n",
    "    fill_mode='nearest'\n",
    ")\n",
    "test_datagen = ImageDataGenerator(\n",
    "    preprocessing_function=preprocess_input,\n",
    "    rotation_range=40,\n",
    "    width_shift_range=0.2,\n",
    "    height_shift_range=0.2,\n",
    "    shear_range=0.2,\n",
    "    zoom_range=0.2,\n",
    "    horizontal_flip=True,\n",
    "    fill_mode='nearest'\n",
    ")"
   ]
  },
  {
   "cell_type": "code",
   "execution_count": null,
   "id": "c92a67cb",
   "metadata": {},
   "outputs": [],
   "source": [
    "training_data = train_datagen.flow_from_directory(\n",
    "                                                train_path,\n",
    "                                                 target_size = (224, 224),\n",
    "                                                 batch_size = 32,\n",
    "                                                 class_mode = 'categorical'\n",
    ")"
   ]
  },
  {
   "cell_type": "code",
   "execution_count": null,
   "id": "76ac9d8c",
   "metadata": {},
   "outputs": [],
   "source": [
    "testing_data = test_datagen.flow_from_directory(\n",
    "                                                test_path,\n",
    "                                                 target_size = (224, 224),\n",
    "                                                 batch_size = 32,\n",
    "                                                 class_mode = 'categorical'\n",
    ")"
   ]
  },
  {
   "cell_type": "code",
   "execution_count": null,
   "id": "783802d3",
   "metadata": {},
   "outputs": [],
   "source": [
    "from PIL import Image \n",
    "import os \n",
    "from IPython.display import display\n",
    "from IPython.display import Image as _Imgdis\n",
    "# creating a object  \n",
    "\n",
    "  \n",
    "folder = train_path+'/benign'\n",
    "\n",
    "\n",
    "onlybenignfiles = [f for f in os.listdir(folder) if os.path.isfile(os.path.join(folder, f))]\n",
    "print(\"Working with {0} images\".format(len(onlybenignfiles)))\n",
    "print(\"Image examples: \")\n",
    "\n",
    "\n",
    "for i in range(10):\n",
    "    print(onlybenignfiles[i])\n",
    "    display(_Imgdis(filename=folder + \"/\" + onlybenignfiles[i], width=240, height=240))\n"
   ]
  },
  {
   "cell_type": "code",
   "execution_count": null,
   "id": "4aee1975",
   "metadata": {},
   "outputs": [],
   "source": [
    "folders = glob('skin cancer/train/*')\n",
    "print(len(folders))"
   ]
  },
  {
   "cell_type": "code",
   "execution_count": null,
   "id": "6244b865",
   "metadata": {},
   "outputs": [],
   "source": [
    "IMAGE_SIZE = [224, 224]\n",
    "\n",
    "vgg = VGG16(input_shape=IMAGE_SIZE + [3], weights='imagenet', include_top=False)"
   ]
  },
  {
   "cell_type": "code",
   "execution_count": null,
   "id": "4e4ce497",
   "metadata": {},
   "outputs": [],
   "source": [
    "vgg.input"
   ]
  },
  {
   "cell_type": "code",
   "execution_count": null,
   "id": "a96eda98",
   "metadata": {},
   "outputs": [],
   "source": [
    "for layer in vgg.layers:\n",
    "    layer.trainable = False"
   ]
  },
  {
   "cell_type": "code",
   "execution_count": null,
   "id": "f3b48c5f",
   "metadata": {},
   "outputs": [],
   "source": [
    "x = Flatten()(vgg.output)\n",
    "predictions = Dense(len(folders),activation='softmax')(x)\n",
    "model = model(input=vgg.input,outputs=predictions)\n",
    "model.summary()\n"
   ]
  },
  {
   "cell_type": "code",
   "execution_count": null,
   "id": "e81f7ea8",
   "metadata": {},
   "outputs": [],
   "source": [
    "\n",
    "model.compile(loss='binary_crossentropy',\n",
    "              optimizer='adam',\n",
    "              metrics=['accuracy'])"
   ]
  },
  {
   "cell_type": "code",
   "execution_count": null,
   "id": "fec8e2c0",
   "metadata": {},
   "outputs": [],
   "source": [
    "model_history=model.fit(\n",
    "  training_data,\n",
    "  validation_data=testing_data,\n",
    "  epochs=10,\n",
    "  steps_per_epoch=5,\n",
    "  validation_steps=32)\n"
   ]
  },
  {
   "cell_type": "code",
   "execution_count": null,
   "id": "667f070c",
   "metadata": {},
   "outputs": [],
   "source": [
    "# Plot training & validation loss values\n",
    "plt.plot(model_history.history['accuracy'])\n",
    "plt.plot(model_history.history['val_accuracy'])\n",
    "plt.title('CNN Model accuracy values')\n",
    "plt.ylabel('Accuracy')\n",
    "plt.xlabel('Epoch')\n",
    "plt.legend(['Train', 'Test'], loc='upper left')\n",
    "plt.show()"
   ]
  }
 ],
 "metadata": {
  "kernelspec": {
   "display_name": "Python 3 (ipykernel)",
   "language": "python",
   "name": "python3"
  },
  "language_info": {
   "codemirror_mode": {
    "name": "ipython",
    "version": 3
   },
   "file_extension": ".py",
   "mimetype": "text/x-python",
   "name": "python",
   "nbconvert_exporter": "python",
   "pygments_lexer": "ipython3",
   "version": "3.9.12"
  }
 },
 "nbformat": 4,
 "nbformat_minor": 5
}
